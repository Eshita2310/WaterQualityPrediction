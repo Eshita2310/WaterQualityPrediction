{
 "cells": [
  {
   "cell_type": "markdown",
   "metadata": {
    "id": "4mQuuHh7dwCd"
   },
   "source": [
    "# Water Quality Prediction"
   ]
  },
  {
   "cell_type": "markdown",
   "metadata": {
    "id": "fr8ArzQrdwCe"
   },
   "source": [
    "## About Dataset\n",
    "\n",
    "#### Context\n",
    "Access to safe drinking-water is essential to health, a basic human right and a component of effective policy for health protection. This is important as a health and development issue at a national, regional and local level. In some regions, it has been shown that investments in water supply and sanitation can yield a net economic benefit, since the reductions in adverse health effects and health care costs outweigh the costs of undertaking the interventions.\n",
    "\n",
    "#### Content\n",
    "The water_potability.csv file contains water quality metrics for 3276 different water bodies.\n",
    "\n",
    "##### 1. pH value:\n",
    "PH is an important parameter in evaluating the acid–base balance of water. It is also the indicator of acidic or alkaline condition of water status. WHO has recommended maximum permissible limit of pH from 6.5 to 8.5. The current investigation ranges were 6.52–6.83 which are in the range of WHO standards.\n",
    "\n",
    "##### 2. Hardness:\n",
    "Hardness is mainly caused by calcium and magnesium salts. These salts are dissolved from geologic deposits through which water travels. The length of time water is in contact with hardness producing material helps determine how much hardness there is in raw water. Hardness was originally defined as the capacity of water to precipitate soap caused by Calcium and Magnesium.\n",
    "\n",
    "##### 3. Solids (Total dissolved solids - TDS):\n",
    "Water has the ability to dissolve a wide range of inorganic and some organic minerals or salts such as potassium, calcium, sodium, bicarbonates, chlorides, magnesium, sulfates etc. These minerals produced un-wanted taste and diluted color in appearance of water. This is the important parameter for the use of water. The water with high TDS value indicates that water is highly mineralized. Desirable limit for TDS is 500 mg/l and maximum limit is 1000 mg/l which prescribed for drinking purpose.\n",
    "\n",
    "##### 4. Chloramines:\n",
    "Chlorine and chloramine are the major disinfectants used in public water systems. Chloramines are most commonly formed when ammonia is added to chlorine to treat drinking water. Chlorine levels up to 4 milligrams per liter (mg/L or 4 parts per million (ppm)) are considered safe in drinking water.\n",
    "\n",
    "##### 5. Sulfate:\n",
    "Sulfates are naturally occurring substances that are found in minerals, soil, and rocks. They are present in ambient air, groundwater, plants, and food. The principal commercial use of sulfate is in the chemical industry. Sulfate concentration in seawater is about 2,700 milligrams per liter (mg/L). It ranges from 3 to 30 mg/L in most freshwater supplies, although much higher concentrations (1000 mg/L) are found in some geographic locations.\n",
    "\n",
    "##### 6. Conductivity:\n",
    "Pure water is not a good conductor of electric current rather’s a good insulator. Increase in ions concentration enhances the electrical conductivity of water. Generally, the amount of dissolved solids in water determines the electrical conductivity. Electrical conductivity (EC) actually measures the ionic process of a solution that enables it to transmit current. According to WHO standards, EC value should not exceeded 400 μS/cm.\n",
    "\n",
    "##### 7. Organic_carbon:\n",
    "Total Organic Carbon (TOC) in source waters comes from decaying natural organic matter (NOM) as well as synthetic sources. TOC is a measure of the total amount of carbon in organic compounds in pure water. According to US EPA < 2 mg/L as TOC in treated / drinking water, and < 4 mg/Lit in source water which is use for treatment.\n",
    "\n",
    "##### 8. Trihalomethanes:\n",
    "THMs are chemicals which may be found in water treated with chlorine. The concentration of THMs in drinking water varies according to the level of organic material in the water, the amount of chlorine required to treat the water, and the temperature of the water that is being treated. THM levels up to 80 ppm is considered safe in drinking water.\n",
    "\n",
    "##### 9. Turbidity:\n",
    "The turbidity of water depends on the quantity of solid matter present in the suspended state. It is a measure of light emitting properties of water and the test is used to indicate the quality of waste discharge with respect to colloidal matter. The mean turbidity value obtained for Wondo Genet Campus (0.98 NTU) is lower than the WHO recommended value of 5.00 NTU.\n",
    "\n",
    "##### 10. Potability:\n",
    "Indicates if water is safe for human consumption where 1 means Potable and 0 means Not potable.\n",
    "(0) Water is not safe to drink and (1) Water is safe to drink"
   ]
  },
  {
   "cell_type": "markdown",
   "metadata": {
    "id": "LtdHC3PViNTd"
   },
   "source": [
    "## Data Gathering"
   ]
  },
  {
   "cell_type": "code",
   "execution_count": 1,
   "metadata": {
    "executionInfo": {
     "elapsed": 748,
     "status": "ok",
     "timestamp": 1629209737360,
     "user": {
      "displayName": "Jatin Sadhwani",
      "photoUrl": "https://lh3.googleusercontent.com/a-/AOh14GiS0m3E3Uxk8C_ODJcAIP-q3K-5ftaLzXsjPpI-=s64",
      "userId": "06753619388663984437"
     },
     "user_tz": -330
    },
    "id": "7x31ilqudwCg"
   },
   "outputs": [],
   "source": [
    "import pandas as pd\n",
    "import numpy as np\n",
    "import matplotlib.pyplot as plt\n",
    "import seaborn as sns"
   ]
  },
  {
   "cell_type": "code",
   "execution_count": 2,
   "metadata": {
    "colab": {
     "base_uri": "https://localhost:8080/",
     "height": 203
    },
    "executionInfo": {
     "elapsed": 5,
     "status": "ok",
     "timestamp": 1629209737911,
     "user": {
      "displayName": "Jatin Sadhwani",
      "photoUrl": "https://lh3.googleusercontent.com/a-/AOh14GiS0m3E3Uxk8C_ODJcAIP-q3K-5ftaLzXsjPpI-=s64",
      "userId": "06753619388663984437"
     },
     "user_tz": -330
    },
    "id": "GrbEkheMdwCh",
    "outputId": "161c7b5e-6e2e-43f7-913a-8a88339b40a9"
   },
   "outputs": [
    {
     "data": {
      "text/html": [
       "<div>\n",
       "<style scoped>\n",
       "    .dataframe tbody tr th:only-of-type {\n",
       "        vertical-align: middle;\n",
       "    }\n",
       "\n",
       "    .dataframe tbody tr th {\n",
       "        vertical-align: top;\n",
       "    }\n",
       "\n",
       "    .dataframe thead th {\n",
       "        text-align: right;\n",
       "    }\n",
       "</style>\n",
       "<table border=\"1\" class=\"dataframe\">\n",
       "  <thead>\n",
       "    <tr style=\"text-align: right;\">\n",
       "      <th></th>\n",
       "      <th>ph</th>\n",
       "      <th>Hardness</th>\n",
       "      <th>Solids</th>\n",
       "      <th>Chloramines</th>\n",
       "      <th>Sulfate</th>\n",
       "      <th>Conductivity</th>\n",
       "      <th>Organic_carbon</th>\n",
       "      <th>Trihalomethanes</th>\n",
       "      <th>Turbidity</th>\n",
       "      <th>Potability</th>\n",
       "    </tr>\n",
       "  </thead>\n",
       "  <tbody>\n",
       "    <tr>\n",
       "      <th>0</th>\n",
       "      <td>NaN</td>\n",
       "      <td>204.890456</td>\n",
       "      <td>20791.31898</td>\n",
       "      <td>7.300212</td>\n",
       "      <td>368.516441</td>\n",
       "      <td>564.308654</td>\n",
       "      <td>10.379783</td>\n",
       "      <td>86.990970</td>\n",
       "      <td>2.963135</td>\n",
       "      <td>0</td>\n",
       "    </tr>\n",
       "    <tr>\n",
       "      <th>1</th>\n",
       "      <td>3.716080</td>\n",
       "      <td>129.422921</td>\n",
       "      <td>18630.05786</td>\n",
       "      <td>6.635246</td>\n",
       "      <td>NaN</td>\n",
       "      <td>592.885359</td>\n",
       "      <td>15.180013</td>\n",
       "      <td>56.329076</td>\n",
       "      <td>4.500656</td>\n",
       "      <td>0</td>\n",
       "    </tr>\n",
       "    <tr>\n",
       "      <th>2</th>\n",
       "      <td>8.099124</td>\n",
       "      <td>224.236259</td>\n",
       "      <td>19909.54173</td>\n",
       "      <td>9.275884</td>\n",
       "      <td>NaN</td>\n",
       "      <td>418.606213</td>\n",
       "      <td>16.868637</td>\n",
       "      <td>66.420093</td>\n",
       "      <td>3.055934</td>\n",
       "      <td>0</td>\n",
       "    </tr>\n",
       "    <tr>\n",
       "      <th>3</th>\n",
       "      <td>8.316766</td>\n",
       "      <td>214.373394</td>\n",
       "      <td>22018.41744</td>\n",
       "      <td>8.059332</td>\n",
       "      <td>356.886136</td>\n",
       "      <td>363.266516</td>\n",
       "      <td>18.436525</td>\n",
       "      <td>100.341674</td>\n",
       "      <td>4.628771</td>\n",
       "      <td>0</td>\n",
       "    </tr>\n",
       "    <tr>\n",
       "      <th>4</th>\n",
       "      <td>9.092223</td>\n",
       "      <td>181.101509</td>\n",
       "      <td>17978.98634</td>\n",
       "      <td>6.546600</td>\n",
       "      <td>310.135738</td>\n",
       "      <td>398.410813</td>\n",
       "      <td>11.558279</td>\n",
       "      <td>31.997993</td>\n",
       "      <td>4.075075</td>\n",
       "      <td>0</td>\n",
       "    </tr>\n",
       "  </tbody>\n",
       "</table>\n",
       "</div>"
      ],
      "text/plain": [
       "         ph    Hardness       Solids  Chloramines     Sulfate  Conductivity  \\\n",
       "0       NaN  204.890456  20791.31898     7.300212  368.516441    564.308654   \n",
       "1  3.716080  129.422921  18630.05786     6.635246         NaN    592.885359   \n",
       "2  8.099124  224.236259  19909.54173     9.275884         NaN    418.606213   \n",
       "3  8.316766  214.373394  22018.41744     8.059332  356.886136    363.266516   \n",
       "4  9.092223  181.101509  17978.98634     6.546600  310.135738    398.410813   \n",
       "\n",
       "   Organic_carbon  Trihalomethanes  Turbidity  Potability  \n",
       "0       10.379783        86.990970   2.963135           0  \n",
       "1       15.180013        56.329076   4.500656           0  \n",
       "2       16.868637        66.420093   3.055934           0  \n",
       "3       18.436525       100.341674   4.628771           0  \n",
       "4       11.558279        31.997993   4.075075           0  "
      ]
     },
     "execution_count": 2,
     "metadata": {},
     "output_type": "execute_result"
    }
   ],
   "source": [
    "df = pd.read_csv('water_potability.csv')\n",
    "df.head()"
   ]
  },
  {
   "cell_type": "markdown",
   "metadata": {
    "id": "LELZXbMLdwCj"
   },
   "source": [
    "# Exploratory Data Analysis"
   ]
  },
  {
   "cell_type": "code",
   "execution_count": 3,
   "metadata": {
    "colab": {
     "base_uri": "https://localhost:8080/"
    },
    "executionInfo": {
     "elapsed": 4,
     "status": "ok",
     "timestamp": 1629209739992,
     "user": {
      "displayName": "Jatin Sadhwani",
      "photoUrl": "https://lh3.googleusercontent.com/a-/AOh14GiS0m3E3Uxk8C_ODJcAIP-q3K-5ftaLzXsjPpI-=s64",
      "userId": "06753619388663984437"
     },
     "user_tz": -330
    },
    "id": "NK1M1-ZadwCj",
    "outputId": "2430852e-702e-4b09-b863-3d9fdb75da81"
   },
   "outputs": [
    {
     "data": {
      "text/plain": [
       "(3276, 10)"
      ]
     },
     "execution_count": 3,
     "metadata": {},
     "output_type": "execute_result"
    }
   ],
   "source": [
    "df.shape"
   ]
  },
  {
   "cell_type": "code",
   "execution_count": 4,
   "metadata": {
    "colab": {
     "base_uri": "https://localhost:8080/"
    },
    "executionInfo": {
     "elapsed": 12,
     "status": "ok",
     "timestamp": 1629209740581,
     "user": {
      "displayName": "Jatin Sadhwani",
      "photoUrl": "https://lh3.googleusercontent.com/a-/AOh14GiS0m3E3Uxk8C_ODJcAIP-q3K-5ftaLzXsjPpI-=s64",
      "userId": "06753619388663984437"
     },
     "user_tz": -330
    },
    "id": "yY0i3-J9dwCk",
    "outputId": "641bd88d-5559-428a-9abc-eeb50451923f"
   },
   "outputs": [
    {
     "data": {
      "text/plain": [
       "ph                 491\n",
       "Hardness             0\n",
       "Solids               0\n",
       "Chloramines          0\n",
       "Sulfate            781\n",
       "Conductivity         0\n",
       "Organic_carbon       0\n",
       "Trihalomethanes    162\n",
       "Turbidity            0\n",
       "Potability           0\n",
       "dtype: int64"
      ]
     },
     "execution_count": 4,
     "metadata": {},
     "output_type": "execute_result"
    }
   ],
   "source": [
    "df.isnull().sum()"
   ]
  },
  {
   "cell_type": "code",
   "execution_count": 5,
   "metadata": {
    "colab": {
     "base_uri": "https://localhost:8080/"
    },
    "executionInfo": {
     "elapsed": 10,
     "status": "ok",
     "timestamp": 1629209740583,
     "user": {
      "displayName": "Jatin Sadhwani",
      "photoUrl": "https://lh3.googleusercontent.com/a-/AOh14GiS0m3E3Uxk8C_ODJcAIP-q3K-5ftaLzXsjPpI-=s64",
      "userId": "06753619388663984437"
     },
     "user_tz": -330
    },
    "id": "v-_n9hgNdwCl",
    "outputId": "038aeb5c-4059-47eb-b724-264fa45a7d18"
   },
   "outputs": [
    {
     "name": "stdout",
     "output_type": "stream",
     "text": [
      "<class 'pandas.core.frame.DataFrame'>\n",
      "RangeIndex: 3276 entries, 0 to 3275\n",
      "Data columns (total 10 columns):\n",
      " #   Column           Non-Null Count  Dtype  \n",
      "---  ------           --------------  -----  \n",
      " 0   ph               2785 non-null   float64\n",
      " 1   Hardness         3276 non-null   float64\n",
      " 2   Solids           3276 non-null   float64\n",
      " 3   Chloramines      3276 non-null   float64\n",
      " 4   Sulfate          2495 non-null   float64\n",
      " 5   Conductivity     3276 non-null   float64\n",
      " 6   Organic_carbon   3276 non-null   float64\n",
      " 7   Trihalomethanes  3114 non-null   float64\n",
      " 8   Turbidity        3276 non-null   float64\n",
      " 9   Potability       3276 non-null   int64  \n",
      "dtypes: float64(9), int64(1)\n",
      "memory usage: 256.1 KB\n"
     ]
    }
   ],
   "source": [
    "df.info()"
   ]
  },
  {
   "cell_type": "code",
   "execution_count": 6,
   "metadata": {
    "colab": {
     "base_uri": "https://localhost:8080/",
     "height": 295
    },
    "executionInfo": {
     "elapsed": 5,
     "status": "ok",
     "timestamp": 1629209741193,
     "user": {
      "displayName": "Jatin Sadhwani",
      "photoUrl": "https://lh3.googleusercontent.com/a-/AOh14GiS0m3E3Uxk8C_ODJcAIP-q3K-5ftaLzXsjPpI-=s64",
      "userId": "06753619388663984437"
     },
     "user_tz": -330
    },
    "id": "q2kKlm7ldwCl",
    "outputId": "364ef72f-5a1e-47d2-aa7b-49be39b94bff"
   },
   "outputs": [
    {
     "data": {
      "text/html": [
       "<div>\n",
       "<style scoped>\n",
       "    .dataframe tbody tr th:only-of-type {\n",
       "        vertical-align: middle;\n",
       "    }\n",
       "\n",
       "    .dataframe tbody tr th {\n",
       "        vertical-align: top;\n",
       "    }\n",
       "\n",
       "    .dataframe thead th {\n",
       "        text-align: right;\n",
       "    }\n",
       "</style>\n",
       "<table border=\"1\" class=\"dataframe\">\n",
       "  <thead>\n",
       "    <tr style=\"text-align: right;\">\n",
       "      <th></th>\n",
       "      <th>ph</th>\n",
       "      <th>Hardness</th>\n",
       "      <th>Solids</th>\n",
       "      <th>Chloramines</th>\n",
       "      <th>Sulfate</th>\n",
       "      <th>Conductivity</th>\n",
       "      <th>Organic_carbon</th>\n",
       "      <th>Trihalomethanes</th>\n",
       "      <th>Turbidity</th>\n",
       "      <th>Potability</th>\n",
       "    </tr>\n",
       "  </thead>\n",
       "  <tbody>\n",
       "    <tr>\n",
       "      <th>count</th>\n",
       "      <td>2785.000000</td>\n",
       "      <td>3276.000000</td>\n",
       "      <td>3276.000000</td>\n",
       "      <td>3276.000000</td>\n",
       "      <td>2495.000000</td>\n",
       "      <td>3276.000000</td>\n",
       "      <td>3276.000000</td>\n",
       "      <td>3114.000000</td>\n",
       "      <td>3276.000000</td>\n",
       "      <td>3276.000000</td>\n",
       "    </tr>\n",
       "    <tr>\n",
       "      <th>mean</th>\n",
       "      <td>7.080795</td>\n",
       "      <td>196.369496</td>\n",
       "      <td>22014.092526</td>\n",
       "      <td>7.122277</td>\n",
       "      <td>333.775777</td>\n",
       "      <td>426.205111</td>\n",
       "      <td>14.284970</td>\n",
       "      <td>66.396293</td>\n",
       "      <td>3.966786</td>\n",
       "      <td>0.390110</td>\n",
       "    </tr>\n",
       "    <tr>\n",
       "      <th>std</th>\n",
       "      <td>1.594320</td>\n",
       "      <td>32.879761</td>\n",
       "      <td>8768.570828</td>\n",
       "      <td>1.583085</td>\n",
       "      <td>41.416840</td>\n",
       "      <td>80.824064</td>\n",
       "      <td>3.308162</td>\n",
       "      <td>16.175008</td>\n",
       "      <td>0.780382</td>\n",
       "      <td>0.487849</td>\n",
       "    </tr>\n",
       "    <tr>\n",
       "      <th>min</th>\n",
       "      <td>0.000000</td>\n",
       "      <td>47.432000</td>\n",
       "      <td>320.942611</td>\n",
       "      <td>0.352000</td>\n",
       "      <td>129.000000</td>\n",
       "      <td>181.483754</td>\n",
       "      <td>2.200000</td>\n",
       "      <td>0.738000</td>\n",
       "      <td>1.450000</td>\n",
       "      <td>0.000000</td>\n",
       "    </tr>\n",
       "    <tr>\n",
       "      <th>25%</th>\n",
       "      <td>6.093092</td>\n",
       "      <td>176.850538</td>\n",
       "      <td>15666.690300</td>\n",
       "      <td>6.127421</td>\n",
       "      <td>307.699498</td>\n",
       "      <td>365.734414</td>\n",
       "      <td>12.065801</td>\n",
       "      <td>55.844536</td>\n",
       "      <td>3.439711</td>\n",
       "      <td>0.000000</td>\n",
       "    </tr>\n",
       "    <tr>\n",
       "      <th>50%</th>\n",
       "      <td>7.036752</td>\n",
       "      <td>196.967627</td>\n",
       "      <td>20927.833605</td>\n",
       "      <td>7.130299</td>\n",
       "      <td>333.073546</td>\n",
       "      <td>421.884968</td>\n",
       "      <td>14.218338</td>\n",
       "      <td>66.622485</td>\n",
       "      <td>3.955028</td>\n",
       "      <td>0.000000</td>\n",
       "    </tr>\n",
       "    <tr>\n",
       "      <th>75%</th>\n",
       "      <td>8.062066</td>\n",
       "      <td>216.667456</td>\n",
       "      <td>27332.762125</td>\n",
       "      <td>8.114887</td>\n",
       "      <td>359.950170</td>\n",
       "      <td>481.792305</td>\n",
       "      <td>16.557652</td>\n",
       "      <td>77.337473</td>\n",
       "      <td>4.500320</td>\n",
       "      <td>1.000000</td>\n",
       "    </tr>\n",
       "    <tr>\n",
       "      <th>max</th>\n",
       "      <td>14.000000</td>\n",
       "      <td>323.124000</td>\n",
       "      <td>61227.196010</td>\n",
       "      <td>13.127000</td>\n",
       "      <td>481.030642</td>\n",
       "      <td>753.342620</td>\n",
       "      <td>28.300000</td>\n",
       "      <td>124.000000</td>\n",
       "      <td>6.739000</td>\n",
       "      <td>1.000000</td>\n",
       "    </tr>\n",
       "  </tbody>\n",
       "</table>\n",
       "</div>"
      ],
      "text/plain": [
       "                ph     Hardness        Solids  Chloramines      Sulfate  \\\n",
       "count  2785.000000  3276.000000   3276.000000  3276.000000  2495.000000   \n",
       "mean      7.080795   196.369496  22014.092526     7.122277   333.775777   \n",
       "std       1.594320    32.879761   8768.570828     1.583085    41.416840   \n",
       "min       0.000000    47.432000    320.942611     0.352000   129.000000   \n",
       "25%       6.093092   176.850538  15666.690300     6.127421   307.699498   \n",
       "50%       7.036752   196.967627  20927.833605     7.130299   333.073546   \n",
       "75%       8.062066   216.667456  27332.762125     8.114887   359.950170   \n",
       "max      14.000000   323.124000  61227.196010    13.127000   481.030642   \n",
       "\n",
       "       Conductivity  Organic_carbon  Trihalomethanes    Turbidity   Potability  \n",
       "count   3276.000000     3276.000000      3114.000000  3276.000000  3276.000000  \n",
       "mean     426.205111       14.284970        66.396293     3.966786     0.390110  \n",
       "std       80.824064        3.308162        16.175008     0.780382     0.487849  \n",
       "min      181.483754        2.200000         0.738000     1.450000     0.000000  \n",
       "25%      365.734414       12.065801        55.844536     3.439711     0.000000  \n",
       "50%      421.884968       14.218338        66.622485     3.955028     0.000000  \n",
       "75%      481.792305       16.557652        77.337473     4.500320     1.000000  \n",
       "max      753.342620       28.300000       124.000000     6.739000     1.000000  "
      ]
     },
     "execution_count": 6,
     "metadata": {},
     "output_type": "execute_result"
    }
   ],
   "source": [
    "df.describe()"
   ]
  },
  {
   "cell_type": "code",
   "execution_count": 7,
   "metadata": {
    "colab": {
     "base_uri": "https://localhost:8080/"
    },
    "executionInfo": {
     "elapsed": 4,
     "status": "ok",
     "timestamp": 1629209743177,
     "user": {
      "displayName": "Jatin Sadhwani",
      "photoUrl": "https://lh3.googleusercontent.com/a-/AOh14GiS0m3E3Uxk8C_ODJcAIP-q3K-5ftaLzXsjPpI-=s64",
      "userId": "06753619388663984437"
     },
     "user_tz": -330
    },
    "id": "cgWJz0YodwCn",
    "outputId": "417f2caf-3f3f-4529-bd92-24415b709f8e"
   },
   "outputs": [
    {
     "data": {
      "text/plain": [
       "ph                 0\n",
       "Hardness           0\n",
       "Solids             0\n",
       "Chloramines        0\n",
       "Sulfate            0\n",
       "Conductivity       0\n",
       "Organic_carbon     0\n",
       "Trihalomethanes    0\n",
       "Turbidity          0\n",
       "Potability         0\n",
       "dtype: int64"
      ]
     },
     "execution_count": 7,
     "metadata": {},
     "output_type": "execute_result"
    }
   ],
   "source": [
    "df.fillna(df.mean(), inplace=True)\n",
    "df.isnull().sum()"
   ]
  },
  {
   "cell_type": "code",
   "execution_count": 8,
   "metadata": {
    "colab": {
     "base_uri": "https://localhost:8080/"
    },
    "executionInfo": {
     "elapsed": 3,
     "status": "ok",
     "timestamp": 1629209743177,
     "user": {
      "displayName": "Jatin Sadhwani",
      "photoUrl": "https://lh3.googleusercontent.com/a-/AOh14GiS0m3E3Uxk8C_ODJcAIP-q3K-5ftaLzXsjPpI-=s64",
      "userId": "06753619388663984437"
     },
     "user_tz": -330
    },
    "id": "qHtgCw8JdwCn",
    "outputId": "ecd409bf-94e7-4561-bb5f-de0e2122ffaa"
   },
   "outputs": [
    {
     "data": {
      "text/plain": [
       "0    1998\n",
       "1    1278\n",
       "Name: Potability, dtype: int64"
      ]
     },
     "execution_count": 8,
     "metadata": {},
     "output_type": "execute_result"
    }
   ],
   "source": [
    "df.Potability.value_counts()"
   ]
  },
  {
   "cell_type": "code",
   "execution_count": 9,
   "metadata": {
    "colab": {
     "base_uri": "https://localhost:8080/",
     "height": 333
    },
    "executionInfo": {
     "elapsed": 9,
     "status": "ok",
     "timestamp": 1629209744011,
     "user": {
      "displayName": "Jatin Sadhwani",
      "photoUrl": "https://lh3.googleusercontent.com/a-/AOh14GiS0m3E3Uxk8C_ODJcAIP-q3K-5ftaLzXsjPpI-=s64",
      "userId": "06753619388663984437"
     },
     "user_tz": -330
    },
    "id": "Q3fXV0pxdwCo",
    "outputId": "6e0dd57e-bfdc-475d-a65a-a77413fb6343"
   },
   "outputs": [
    {
     "name": "stderr",
     "output_type": "stream",
     "text": [
      "C:\\Users\\heera\\anaconda3\\lib\\site-packages\\seaborn\\_decorators.py:36: FutureWarning: Pass the following variable as a keyword arg: x. From version 0.12, the only valid positional argument will be `data`, and passing other arguments without an explicit keyword will result in an error or misinterpretation.\n",
      "  warnings.warn(\n"
     ]
    },
    {
     "data": {
      "image/png": "[encoded data removed]",
      "text/plain": [
       "<Figure size 432x288 with 1 Axes>"
      ]
     },
     "metadata": {
      "needs_background": "light"
     },
     "output_type": "display_data"
    }
   ],
   "source": [
    "sns.countplot(df['Potability'])\n",
    "plt.show()"
   ]
  },
  {
   "cell_type": "code",
   "execution_count": 10,
   "metadata": {
    "colab": {
     "base_uri": "https://localhost:8080/",
     "height": 333
    },
    "executionInfo": {
     "elapsed": 7,
     "status": "ok",
     "timestamp": 1629209744012,
     "user": {
      "displayName": "Jatin Sadhwani",
      "photoUrl": "https://lh3.googleusercontent.com/a-/AOh14GiS0m3E3Uxk8C_ODJcAIP-q3K-5ftaLzXsjPpI-=s64",
      "userId": "06753619388663984437"
     },
     "user_tz": -330
    },
    "id": "t60BHS15dwCo",
    "outputId": "864001e6-be43-4ab7-f08a-e6096885f3f2"
   },
   "outputs": [
    {
     "name": "stderr",
     "output_type": "stream",
     "text": [
      "C:\\Users\\heera\\anaconda3\\lib\\site-packages\\seaborn\\distributions.py:2619: FutureWarning: `distplot` is a deprecated function and will be removed in a future version. Please adapt your code to use either `displot` (a figure-level function with similar flexibility) or `histplot` (an axes-level function for histograms).\n",
      "  warnings.warn(msg, FutureWarning)\n"
     ]
    },
    {
     "data": {
      "image/png": "[encoded data removed]",
      "text/plain": [
       "<Figure size 432x288 with 1 Axes>"
      ]
     },
     "metadata": {
      "needs_background": "light"
     },
     "output_type": "display_data"
    }
   ],
   "source": [
    "sns.distplot(df['ph'])\n",
    "plt.show()"
   ]
  },
  {
   "cell_type": "code",
   "execution_count": 11,
   "metadata": {
    "colab": {
     "base_uri": "https://localhost:8080/",
     "height": 825
    },
    "executionInfo": {
     "elapsed": 1265,
     "status": "ok",
     "timestamp": 1629209745986,
     "user": {
      "displayName": "Jatin Sadhwani",
      "photoUrl": "https://lh3.googleusercontent.com/a-/AOh14GiS0m3E3Uxk8C_ODJcAIP-q3K-5ftaLzXsjPpI-=s64",
      "userId": "06753619388663984437"
     },
     "user_tz": -330
    },
    "id": "zGiZZjOmdwCp",
    "outputId": "955482cb-2d05-4c5d-d010-77011887fd31"
   },
   "outputs": [
    {
     "data": {
      "image/png": "[encoded data removed]",
      "text/plain": [
       "<Figure size 1008x1008 with 12 Axes>"
      ]
     },
     "metadata": {
      "needs_background": "light"
     },
     "output_type": "display_data"
    }
   ],
   "source": [
    "df.hist(figsize=(14,14))\n",
    "plt.show()"
   ]
  },
  {
   "cell_type": "code",
   "execution_count": 12,
   "metadata": {
    "colab": {
     "base_uri": "https://localhost:8080/",
     "height": 560
    },
    "executionInfo": {
     "elapsed": 1453,
     "status": "ok",
     "timestamp": 1629209752924,
     "user": {
      "displayName": "Jatin Sadhwani",
      "photoUrl": "https://lh3.googleusercontent.com/a-/AOh14GiS0m3E3Uxk8C_ODJcAIP-q3K-5ftaLzXsjPpI-=s64",
      "userId": "06753619388663984437"
     },
     "user_tz": -330
    },
    "id": "iKEKgC_vdwCq",
    "outputId": "32a1ffb7-278b-499a-e07a-515425c19874"
   },
   "outputs": [
    {
     "data": {
      "image/png": "[encoded data removed]",
      "text/plain": [
       "<Figure size 936x576 with 2 Axes>"
      ]
     },
     "metadata": {
      "needs_background": "light"
     },
     "output_type": "display_data"
    }
   ],
   "source": [
    "plt.figure(figsize=(13,8))\n",
    "sns.heatmap(df.corr(),annot=True,cmap='terrain')\n",
    "plt.show()"
   ]
  },
  {
   "cell_type": "code",
   "execution_count": 13,
   "metadata": {
    "colab": {
     "base_uri": "https://localhost:8080/",
     "height": 446
    },
    "executionInfo": {
     "elapsed": 852,
     "status": "ok",
     "timestamp": 1629209757841,
     "user": {
      "displayName": "Jatin Sadhwani",
      "photoUrl": "https://lh3.googleusercontent.com/a-/AOh14GiS0m3E3Uxk8C_ODJcAIP-q3K-5ftaLzXsjPpI-=s64",
      "userId": "06753619388663984437"
     },
     "user_tz": -330
    },
    "id": "FLBT43rBdwCq",
    "outputId": "1d0e06b2-3c1e-48f4-eb4a-bbc6b6dc8753"
   },
   "outputs": [
    {
     "data": {
      "text/plain": [
       "<AxesSubplot:>"
      ]
     },
     "execution_count": 13,
     "metadata": {},
     "output_type": "execute_result"
    },
    {
     "data": {
      "image/png": "[encoded data removed]",
      "text/plain": [
       "<Figure size 1008x504 with 1 Axes>"
      ]
     },
     "metadata": {
      "needs_background": "light"
     },
     "output_type": "display_data"
    }
   ],
   "source": [
    "df.boxplot(figsize=(14,7))"
   ]
  },
  {
   "cell_type": "code",
   "execution_count": 15,
   "metadata": {
    "executionInfo": {
     "elapsed": 468,
     "status": "ok",
     "timestamp": 1629210063426,
     "user": {
      "displayName": "Jatin Sadhwani",
      "photoUrl": "https://lh3.googleusercontent.com/a-/AOh14GiS0m3E3Uxk8C_ODJcAIP-q3K-5ftaLzXsjPpI-=s64",
      "userId": "06753619388663984437"
     },
     "user_tz": -330
    },
    "id": "-PPt2sfhdwCq"
   },
   "outputs": [],
   "source": [
    "X = df.drop('Potability',axis=1)\n",
    "Y= df['Potability']"
   ]
  },
  {
   "cell_type": "code",
   "execution_count": 16,
   "metadata": {
    "executionInfo": {
     "elapsed": 695,
     "status": "ok",
     "timestamp": 1629210073714,
     "user": {
      "displayName": "Jatin Sadhwani",
      "photoUrl": "https://lh3.googleusercontent.com/a-/AOh14GiS0m3E3Uxk8C_ODJcAIP-q3K-5ftaLzXsjPpI-=s64",
      "userId": "06753619388663984437"
     },
     "user_tz": -330
    },
    "id": "S8E7hzrpdwCq"
   },
   "outputs": [],
   "source": [
    "from sklearn.model_selection import train_test_split\n",
    "X_train, X_test, Y_train, Y_test = train_test_split(X,Y, test_size= 0.2, random_state=101,shuffle=True)"
   ]
  },
  {
   "cell_type": "markdown",
   "metadata": {
    "id": "8PUrBzz8iBn7"
   },
   "source": [
    "## Train Decision Tree Classifier and check accuracy"
   ]
  },
  {
   "cell_type": "code",
   "execution_count": 19,
   "metadata": {
    "colab": {
     "base_uri": "https://localhost:8080/"
    },
    "executionInfo": {
     "elapsed": 1269,
     "status": "ok",
     "timestamp": 1629210250917,
     "user": {
      "displayName": "Jatin Sadhwani",
      "photoUrl": "https://lh3.googleusercontent.com/a-/AOh14GiS0m3E3Uxk8C_ODJcAIP-q3K-5ftaLzXsjPpI-=s64",
      "userId": "06753619388663984437"
     },
     "user_tz": -330
    },
    "id": "MV1m2IozdwCr",
    "outputId": "265e3c18-e882-4dec-aaf4-22a5775649a5"
   },
   "outputs": [
    {
     "data": {
      "text/plain": [
       "DecisionTreeClassifier(min_samples_split=10)"
      ]
     },
     "execution_count": 19,
     "metadata": {},
     "output_type": "execute_result"
    }
   ],
   "source": [
    "from sklearn.tree import DecisionTreeClassifier\n",
    "from sklearn.metrics import accuracy_score,confusion_matrix,classification_report\n",
    "dt=DecisionTreeClassifier(criterion= 'gini', min_samples_split= 10, splitter= 'best')\n",
    "dt.fit(X_train,Y_train)"
   ]
  },
  {
   "cell_type": "code",
   "execution_count": 18,
   "metadata": {
    "colab": {
     "base_uri": "https://localhost:8080/"
    },
    "executionInfo": {
     "elapsed": 4,
     "status": "ok",
     "timestamp": 1629210252715,
     "user": {
      "displayName": "Jatin Sadhwani",
      "photoUrl": "https://lh3.googleusercontent.com/a-/AOh14GiS0m3E3Uxk8C_ODJcAIP-q3K-5ftaLzXsjPpI-=s64",
      "userId": "06753619388663984437"
     },
     "user_tz": -330
    },
    "id": "xTG-SOVBfQ9-",
    "outputId": "ec15aad1-99e0-43a7-e51b-c0bbf7116636"
   },
   "outputs": [
    {
     "name": "stdout",
     "output_type": "stream",
     "text": [
      "Accuracy Score = 58.231707317073166\n",
      "Confusion Matrix =\n",
      " [[271 131]\n",
      " [143 111]]\n",
      "Classification Report =\n",
      "               precision    recall  f1-score   support\n",
      "\n",
      "           0       0.65      0.67      0.66       402\n",
      "           1       0.46      0.44      0.45       254\n",
      "\n",
      "    accuracy                           0.58       656\n",
      "   macro avg       0.56      0.56      0.56       656\n",
      "weighted avg       0.58      0.58      0.58       656\n",
      "\n"
     ]
    }
   ],
   "source": [
    "prediction=dt.predict(X_test)\n",
    "print(f\"Accuracy Score = {accuracy_score(Y_test,prediction)*100}\")\n",
    "print(f\"Confusion Matrix =\\n {confusion_matrix(Y_test,prediction)}\")\n",
    "print(f\"Classification Report =\\n {classification_report(Y_test,prediction)}\")\n"
   ]
  },
  {
   "cell_type": "code",
   "execution_count": 20,
   "metadata": {
    "colab": {
     "base_uri": "https://localhost:8080/"
    },
    "executionInfo": {
     "elapsed": 495,
     "status": "ok",
     "timestamp": 1629210284751,
     "user": {
      "displayName": "Jatin Sadhwani",
      "photoUrl": "https://lh3.googleusercontent.com/a-/AOh14GiS0m3E3Uxk8C_ODJcAIP-q3K-5ftaLzXsjPpI-=s64",
      "userId": "06753619388663984437"
     },
     "user_tz": -330
    },
    "id": "9pe1j8hifS6n",
    "outputId": "7de2cac7-c6d6-43a4-c37c-9c361ec4982c"
   },
   "outputs": [
    {
     "name": "stderr",
     "output_type": "stream",
     "text": [
      "C:\\Users\\heera\\anaconda3\\lib\\site-packages\\sklearn\\base.py:450: UserWarning: X does not have valid feature names, but DecisionTreeClassifier was fitted with feature names\n",
      "  warnings.warn(\n"
     ]
    },
    {
     "data": {
      "text/plain": [
       "1"
      ]
     },
     "execution_count": 20,
     "metadata": {},
     "output_type": "execute_result"
    }
   ],
   "source": [
    "res = dt.predict([[5.735724, 158.318741,25363.016594,7.728601,377.543291,568.304671,13.626624,75.952337,4.732954]])[0]\n",
    "res"
   ]
  },
  {
   "cell_type": "markdown",
   "metadata": {
    "id": "lO1WpxClhzMy"
   },
   "source": [
    "## Apply Hyper Parameter Tuning"
   ]
  },
  {
   "cell_type": "code",
   "execution_count": 22,
   "metadata": {
    "colab": {
     "base_uri": "https://localhost:8080/"
    },
    "executionInfo": {
     "elapsed": 16472,
     "status": "ok",
     "timestamp": 1629210469513,
     "user": {
      "displayName": "Jatin Sadhwani",
      "photoUrl": "https://lh3.googleusercontent.com/a-/AOh14GiS0m3E3Uxk8C_ODJcAIP-q3K-5ftaLzXsjPpI-=s64",
      "userId": "06753619388663984437"
     },
     "user_tz": -330
    },
    "id": "KEVitnCygAKD",
    "outputId": "b1cdd367-d8f9-4f57-be78-2b164f2c88a4"
   },
   "outputs": [
    {
     "data": {
      "text/plain": [
       "GridSearchCV(cv=RepeatedStratifiedKFold(n_repeats=3, n_splits=10, random_state=1),\n",
       "             error_score=0, estimator=DecisionTreeClassifier(), n_jobs=-1,\n",
       "             param_grid={'criterion': ['gini', 'entropy'],\n",
       "                         'min_samples_split': [2, 4, 6, 8, 10, 12, 14],\n",
       "                         'splitter': ['best', 'random']},\n",
       "             scoring='accuracy')"
      ]
     },
     "execution_count": 22,
     "metadata": {},
     "output_type": "execute_result"
    }
   ],
   "source": [
    "from sklearn.model_selection import RepeatedStratifiedKFold\n",
    "from sklearn.model_selection import GridSearchCV\n",
    "\n",
    "# define models and parameters\n",
    "model = DecisionTreeClassifier()\n",
    "criterion = [\"gini\", \"entropy\"]\n",
    "splitter = [\"best\", \"random\"]\n",
    "min_samples_split = [2,4,6,8,10,12,14]\n",
    "\n",
    "# define grid search\n",
    "grid = dict(splitter=splitter, criterion=criterion, min_samples_split=min_samples_split)\n",
    "cv = RepeatedStratifiedKFold(n_splits=10, n_repeats=3, random_state=1)\n",
    "grid_search_dt = GridSearchCV(estimator=model, param_grid=grid, n_jobs=-1, cv=cv, \n",
    "                           scoring='accuracy',error_score=0)\n",
    "grid_search_dt.fit(X_train, Y_train)"
   ]
  },
  {
   "cell_type": "code",
   "execution_count": 23,
   "metadata": {
    "colab": {
     "base_uri": "https://localhost:8080/"
    },
    "executionInfo": {
     "elapsed": 4,
     "status": "ok",
     "timestamp": 1629210469513,
     "user": {
      "displayName": "Jatin Sadhwani",
      "photoUrl": "https://lh3.googleusercontent.com/a-/AOh14GiS0m3E3Uxk8C_ODJcAIP-q3K-5ftaLzXsjPpI-=s64",
      "userId": "06753619388663984437"
     },
     "user_tz": -330
    },
    "id": "vj0zNZL6gD5w",
    "outputId": "17c94ff2-2db6-4425-ce65-da58fc19564d"
   },
   "outputs": [
    {
     "name": "stdout",
     "output_type": "stream",
     "text": [
      "Best: 0.596 using {'criterion': 'entropy', 'min_samples_split': 14, 'splitter': 'random'}\n",
      "0.581 (0.031) with: {'criterion': 'gini', 'min_samples_split': 2, 'splitter': 'best'}\n",
      "0.575 (0.032) with: {'criterion': 'gini', 'min_samples_split': 2, 'splitter': 'random'}\n",
      "0.587 (0.034) with: {'criterion': 'gini', 'min_samples_split': 4, 'splitter': 'best'}\n",
      "0.580 (0.033) with: {'criterion': 'gini', 'min_samples_split': 4, 'splitter': 'random'}\n",
      "0.584 (0.030) with: {'criterion': 'gini', 'min_samples_split': 6, 'splitter': 'best'}\n",
      "0.584 (0.030) with: {'criterion': 'gini', 'min_samples_split': 6, 'splitter': 'random'}\n",
      "0.587 (0.027) with: {'criterion': 'gini', 'min_samples_split': 8, 'splitter': 'best'}\n",
      "0.588 (0.027) with: {'criterion': 'gini', 'min_samples_split': 8, 'splitter': 'random'}\n",
      "0.590 (0.029) with: {'criterion': 'gini', 'min_samples_split': 10, 'splitter': 'best'}\n",
      "0.581 (0.029) with: {'criterion': 'gini', 'min_samples_split': 10, 'splitter': 'random'}\n",
      "0.589 (0.027) with: {'criterion': 'gini', 'min_samples_split': 12, 'splitter': 'best'}\n",
      "0.593 (0.026) with: {'criterion': 'gini', 'min_samples_split': 12, 'splitter': 'random'}\n",
      "0.591 (0.025) with: {'criterion': 'gini', 'min_samples_split': 14, 'splitter': 'best'}\n",
      "0.578 (0.030) with: {'criterion': 'gini', 'min_samples_split': 14, 'splitter': 'random'}\n",
      "0.585 (0.029) with: {'criterion': 'entropy', 'min_samples_split': 2, 'splitter': 'best'}\n",
      "0.578 (0.030) with: {'criterion': 'entropy', 'min_samples_split': 2, 'splitter': 'random'}\n",
      "0.584 (0.032) with: {'criterion': 'entropy', 'min_samples_split': 4, 'splitter': 'best'}\n",
      "0.577 (0.029) with: {'criterion': 'entropy', 'min_samples_split': 4, 'splitter': 'random'}\n",
      "0.588 (0.029) with: {'criterion': 'entropy', 'min_samples_split': 6, 'splitter': 'best'}\n",
      "0.587 (0.028) with: {'criterion': 'entropy', 'min_samples_split': 6, 'splitter': 'random'}\n",
      "0.587 (0.029) with: {'criterion': 'entropy', 'min_samples_split': 8, 'splitter': 'best'}\n",
      "0.579 (0.030) with: {'criterion': 'entropy', 'min_samples_split': 8, 'splitter': 'random'}\n",
      "0.587 (0.029) with: {'criterion': 'entropy', 'min_samples_split': 10, 'splitter': 'best'}\n",
      "0.595 (0.029) with: {'criterion': 'entropy', 'min_samples_split': 10, 'splitter': 'random'}\n",
      "0.588 (0.029) with: {'criterion': 'entropy', 'min_samples_split': 12, 'splitter': 'best'}\n",
      "0.594 (0.028) with: {'criterion': 'entropy', 'min_samples_split': 12, 'splitter': 'random'}\n",
      "0.589 (0.026) with: {'criterion': 'entropy', 'min_samples_split': 14, 'splitter': 'best'}\n",
      "0.596 (0.029) with: {'criterion': 'entropy', 'min_samples_split': 14, 'splitter': 'random'}\n",
      "Training Score: 81.6030534351145\n",
      "Testing Score: 56.25\n"
     ]
    }
   ],
   "source": [
    "print(f\"Best: {grid_search_dt.best_score_:.3f} using {grid_search_dt.best_params_}\")\n",
    "means = grid_search_dt.cv_results_['mean_test_score']\n",
    "stds = grid_search_dt.cv_results_['std_test_score']\n",
    "params = grid_search_dt.cv_results_['params']\n",
    "\n",
    "for mean, stdev, param in zip(means, stds, params):\n",
    "    print(f\"{mean:.3f} ({stdev:.3f}) with: {param}\")\n",
    "    \n",
    "print(\"Training Score:\",grid_search_dt.score(X_train, Y_train)*100)\n",
    "print(\"Testing Score:\", grid_search_dt.score(X_test, Y_test)*100)"
   ]
  },
  {
   "cell_type": "markdown",
   "metadata": {
    "id": "iqqXDkovgj_4"
   },
   "source": [
    "# Thank You !!!!!"
   ]
  },
  {
   "cell_type": "code",
   "execution_count": null,
   "metadata": {},
   "outputs": [],
   "source": []
  }
 ],
 "metadata": {
  "accelerator": "GPU",
  "colab": {
   "collapsed_sections": [],
   "name": "Water Quality Prediction.ipynb",
   "provenance": []
  },
  "kernelspec": {
   "display_name": "Python 3 (ipykernel)",
   "language": "python",
   "name": "python3"
  },
  "language_info": {
   "codemirror_mode": {
    "name": "ipython",
    "version": 3
   },
   "file_extension": ".py",
   "mimetype": "text/x-python",
   "name": "python",
   "nbconvert_exporter": "python",
   "pygments_lexer": "ipython3",
   "version": "3.9.12"
  }
 },
 "nbformat": 4,
 "nbformat_minor": 1
}
